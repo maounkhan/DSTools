{
  "nbformat": 4,
  "nbformat_minor": 0,
  "metadata": {
    "colab": {
      "provenance": []
    },
    "kernelspec": {
      "name": "python3",
      "display_name": "Python 3"
    },
    "language_info": {
      "name": "python"
    }
  },
  "cells": [
    {
      "cell_type": "markdown",
      "source": [
        "<center>\n",
        "    <img src=\"https://cf-courses-data.s3.us.cloud-object-storage.appdomain.cloud/IBMDeveloperSkillsNetwork-DS0105EN-SkillsNetwork/labs/Module2/images/SN_web_lightmode.png\" width=\"300\" alt=\"cognitiveclass.ai logo\">\n",
        "</center>\n"
      ],
      "metadata": {
        "id": "uLkor0qM0VP3"
      }
    },
    {
      "cell_type": "markdown",
      "source": [
        "#### Add your code below following the instructions given in the course"
      ],
      "metadata": {
        "id": "kXH1PjmT0Yda"
      }
    },
    {
      "cell_type": "markdown",
      "source": [
        "# Data Science Ecosystem"
      ],
      "metadata": {
        "id": "ZegxEzPfq84s"
      }
    },
    {
      "cell_type": "markdown",
      "source": [
        "In this notebook, Data Science Tools and Ecosystem are summarized."
      ],
      "metadata": {
        "id": "uo0_-gUwq_QL"
      }
    },
    {
      "cell_type": "markdown",
      "source": [
        "**Objectives:**\n",
        "- There are lots of open source and commercial tools readily available for data scientists\n",
        "- Data scientists should be familiar with some of the libraries used in data science\n",
        "- A data scientist should understand the idea of version control systems. The most popular one is GitHub."
      ],
      "metadata": {
        "id": "a5OIUbAhw_Eu"
      }
    },
    {
      "cell_type": "markdown",
      "source": [
        "These are some of the popular languages that data scientists use:\n",
        "- Python\n",
        "- R\n",
        "- Julia"
      ],
      "metadata": {
        "id": "fYXyEFIcsVHo"
      }
    },
    {
      "cell_type": "markdown",
      "source": [
        "Some of the common libraries data scientists use are:\n",
        "- Pandas\n",
        "- Plotly\n",
        "- ggplot2\n",
        "- scikit-learn"
      ],
      "metadata": {
        "id": "G2dnQ9Fgsk6y"
      }
    },
    {
      "cell_type": "markdown",
      "source": [
        "|Data Science Tools|\n",
        "|------------------|\n",
        "|JupyterLab|\n",
        "|RStudio|\n",
        "|IBM Data Asset eXchange|\n",
        "|IBM Model Asset eXchange|\n",
        "|GitHub|"
      ],
      "metadata": {
        "id": "3nG8GMxHtpRk"
      }
    },
    {
      "cell_type": "markdown",
      "source": [
        "### Examples of arithmetic expressions computed in Python lie below\n",
        "\n"
      ],
      "metadata": {
        "id": "bFWQkpWBudN0"
      }
    },
    {
      "cell_type": "code",
      "source": [
        "# This is a basic arithmetic expression featuring mulitplication followed by addition\n",
        "\n",
        "(3*4)+5"
      ],
      "metadata": {
        "colab": {
          "base_uri": "https://localhost:8080/"
        },
        "id": "km24FrxMvauQ",
        "outputId": "feaa7f7c-be12-4382-8d26-09c93c7b7c1d"
      },
      "execution_count": 5,
      "outputs": [
        {
          "output_type": "execute_result",
          "data": {
            "text/plain": [
              "17"
            ]
          },
          "metadata": {},
          "execution_count": 5
        }
      ]
    },
    {
      "cell_type": "code",
      "source": [
        "# This cell will convert 200 minutes into the\n",
        "# equivalent amount in hours by dividing by 60\n",
        "\n",
        "200 / 60"
      ],
      "metadata": {
        "colab": {
          "base_uri": "https://localhost:8080/"
        },
        "id": "2lxNTwvOwc95",
        "outputId": "59c7184d-43ab-44e7-ff88-9c107f1348e9"
      },
      "execution_count": 6,
      "outputs": [
        {
          "output_type": "execute_result",
          "data": {
            "text/plain": [
              "3.3333333333333335"
            ]
          },
          "metadata": {},
          "execution_count": 6
        }
      ]
    },
    {
      "cell_type": "markdown",
      "source": [
        "## Author\n",
        "Muhammad Aoun Khan"
      ],
      "metadata": {
        "id": "Vfzo4J-BxyVE"
      }
    }
  ]
}